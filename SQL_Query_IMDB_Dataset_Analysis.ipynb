{
  "nbformat": 4,
  "nbformat_minor": 0,
  "metadata": {
    "colab": {
      "private_outputs": true,
      "provenance": []
    },
    "kernelspec": {
      "name": "python3",
      "display_name": "Python 3"
    },
    "language_info": {
      "name": "python"
    }
  },
  "cells": [
    {
      "cell_type": "markdown",
      "source": [
        "# Project - SQL Query IMDB Dataset Analysis"
      ],
      "metadata": {
        "id": "kvxZqjI_2_Kv"
      }
    },
    {
      "cell_type": "code",
      "source": [
        "import numpy as np\n",
        "import pandas as pd\n",
        "import matplotlib.pyplot as plt\n",
        "import seaborn as sns\n",
        "import sqlite3"
      ],
      "metadata": {
        "id": "ybUtGW3tCags"
      },
      "execution_count": null,
      "outputs": []
    },
    {
      "cell_type": "code",
      "source": [
        "from google.colab import drive\n",
        "drive.mount('/content/drive')"
      ],
      "metadata": {
        "id": "x_97dZnML9Ee"
      },
      "execution_count": null,
      "outputs": []
    },
    {
      "cell_type": "code",
      "source": [
        "db = '/content/drive/MyDrive/DATASETS/movies.sqlite'\n",
        "# Establishing the connection with database\n",
        "conn = sqlite3.connect(db)\n",
        "# Creating the cursor object\n",
        "cur = conn.cursor()"
      ],
      "metadata": {
        "id": "qqu8Usq1TdIu"
      },
      "execution_count": null,
      "outputs": []
    },
    {
      "cell_type": "markdown",
      "source": [
        "Get all data about movies:"
      ],
      "metadata": {
        "id": "tAjNnHQlT7Ft"
      }
    },
    {
      "cell_type": "code",
      "source": [
        "# Fetchong the data of the movies table from the database\n",
        "cur.execute(\"select * from movies\")\n",
        "#\n",
        "movies = cur.fetchall()"
      ],
      "metadata": {
        "id": "3m-AXj5VT0ey"
      },
      "execution_count": null,
      "outputs": []
    },
    {
      "cell_type": "code",
      "source": [
        "# Displaying the database data\n",
        "movies"
      ],
      "metadata": {
        "id": "FUYmq-ahU2hy"
      },
      "execution_count": null,
      "outputs": []
    },
    {
      "cell_type": "code",
      "source": [
        "# Creating the dataframe\n",
        "movies = pd.DataFrame(movies, columns = ['ID', 'Original_title', 'Budget', 'Popularity', 'Release_date', 'Revenue', 'Title', 'Vote_average', 'Vote_count', 'Overview', 'Tagline', 'UID', 'Director_ID'])"
      ],
      "metadata": {
        "id": "BBRc_AkMVtaD"
      },
      "execution_count": null,
      "outputs": []
    },
    {
      "cell_type": "code",
      "source": [
        "# Displaying the dataframe\n",
        "movies"
      ],
      "metadata": {
        "id": "hwDBM2P6V2t2"
      },
      "execution_count": null,
      "outputs": []
    },
    {
      "cell_type": "code",
      "source": [
        "movies.info()"
      ],
      "metadata": {
        "id": "bH1I3gjuZosv"
      },
      "execution_count": null,
      "outputs": []
    },
    {
      "cell_type": "markdown",
      "source": [
        "**Get all data about directors:**"
      ],
      "metadata": {
        "id": "GKS6GGauaQhw"
      }
    },
    {
      "cell_type": "code",
      "source": [
        "# Fetchong the data of the directors table from the database\n",
        "cur.execute(\"select * from directors\")\n",
        "directors = cur.fetchall()"
      ],
      "metadata": {
        "id": "rlpU86RzaDnD"
      },
      "execution_count": null,
      "outputs": []
    },
    {
      "cell_type": "code",
      "source": [
        "directors"
      ],
      "metadata": {
        "id": "K2Ysu7GHaExF"
      },
      "execution_count": null,
      "outputs": []
    },
    {
      "cell_type": "code",
      "source": [
        "directors = pd.DataFrame(directors, columns = ['Name', 'ID', 'Gender', 'UID', 'Department'])"
      ],
      "metadata": {
        "id": "bPw5QUJPcFrx"
      },
      "execution_count": null,
      "outputs": []
    },
    {
      "cell_type": "code",
      "source": [
        "directors"
      ],
      "metadata": {
        "id": "yIP7YF7GcO70"
      },
      "execution_count": null,
      "outputs": []
    },
    {
      "cell_type": "code",
      "source": [
        "directors.info()"
      ],
      "metadata": {
        "id": "erNRr-rYefnv"
      },
      "execution_count": null,
      "outputs": []
    },
    {
      "cell_type": "markdown",
      "source": [
        "**Check how many movies are present in the IMDB table**"
      ],
      "metadata": {
        "id": "sVh-pYJ9f-LZ"
      }
    },
    {
      "cell_type": "code",
      "source": [
        "cur.execute('select count(Title) from movies;')\n",
        "count = cur.fetchall()\n",
        "print(f\"The number of the movies present in the IMDB database is {count[0]}\")"
      ],
      "metadata": {
        "id": "dfF-Sgj-f8fn"
      },
      "execution_count": null,
      "outputs": []
    },
    {
      "cell_type": "markdown",
      "source": [
        "**Find thses 3 directors: James Cameron, Luc Besson, Jhon Woo**"
      ],
      "metadata": {
        "id": "8rZ4bCD4hRwK"
      }
    },
    {
      "cell_type": "code",
      "source": [
        "cur.execute(\"select * from directors where name in ('James Cameron' , 'Luc Besson' , 'Jhon Woo')\")\n",
        "three_directors = cur.fetchall()\n",
        "print(f\"These 3 Directors data are: {three_directors}\")"
      ],
      "metadata": {
        "id": "q0Ji93vgf1QG"
      },
      "execution_count": null,
      "outputs": []
    },
    {
      "cell_type": "markdown",
      "source": [
        "**Find all the directors with name starting with 'Steven'**"
      ],
      "metadata": {
        "id": "x1dVdHRqkMUw"
      }
    },
    {
      "cell_type": "code",
      "source": [
        "cur.execute(\"select * from directors where name like 'Steven%'\")\n",
        "name_like = cur.fetchall()\n",
        "print(f\"The directors whose names are starting with the word 'Steven' are: {name_like}\")"
      ],
      "metadata": {
        "id": "AsenmOF2kYb0"
      },
      "execution_count": null,
      "outputs": []
    },
    {
      "cell_type": "markdown",
      "source": [
        "**Count the female directors:**"
      ],
      "metadata": {
        "id": "HD3tE0bBlnTp"
      }
    },
    {
      "cell_type": "code",
      "source": [
        "cur.execute(\"select count(*) from directors where gender = 1\")\n",
        "count_females = cur.fetchall()\n",
        "print(f\"The number of female directors is {count_females[0][0]}\")"
      ],
      "metadata": {
        "id": "NzT4Ui9_lwG9"
      },
      "execution_count": null,
      "outputs": []
    },
    {
      "cell_type": "markdown",
      "source": [
        "**Find the name of the 10th first women directors**"
      ],
      "metadata": {
        "id": "ABVr00-GnBHu"
      }
    },
    {
      "cell_type": "code",
      "source": [
        "cur.execute(\"select name from directors where gender==1 order by ID asc limit 9,1\")\n",
        "tenth_female = cur.fetchall()\n",
        "print(f\"The tenth first women is : {tenth_female[0][0]}\")"
      ],
      "metadata": {
        "id": "AUuWshRNnCZR"
      },
      "execution_count": null,
      "outputs": []
    },
    {
      "cell_type": "markdown",
      "source": [
        "**What are the 3 most popular movies**"
      ],
      "metadata": {
        "id": "0iipz9zUu5ju"
      }
    },
    {
      "cell_type": "code",
      "source": [
        "cur.execute(\"select title from movies order by popularity desc limit 3 \")\n",
        "three_most_popular = cur.fetchall()\n",
        "print(f\"The three most popular movies are: {three_most_popular[0][0]},{three_most_popular[1][0]} and {three_most_popular[2][0]}\")"
      ],
      "metadata": {
        "id": "R9mLNpUKvJpc"
      },
      "execution_count": null,
      "outputs": []
    },
    {
      "cell_type": "markdown",
      "source": [
        "**What are the 3 bankable movies**"
      ],
      "metadata": {
        "id": "1iO4J2AYxPjX"
      }
    },
    {
      "cell_type": "code",
      "source": [
        "cur.execute(\"select title from movies order by budget desc limit 3\")\n",
        "most_bankable = cur.fetchall()\n",
        "print(f\"The three most bankable movies are:- {most_bankable[0][0]},{most_bankable[1][0]} and {most_bankable[2][0]}\")"
      ],
      "metadata": {
        "id": "xd-z9D9HxOGn"
      },
      "execution_count": null,
      "outputs": []
    },
    {
      "cell_type": "markdown",
      "source": [
        "**What is the most awarded average movie since the Jan 1st, 2000**"
      ],
      "metadata": {
        "id": "K2a2EkGYyEHQ"
      }
    },
    {
      "cell_type": "code",
      "source": [
        "cur.execute(\"select title from movies where Release_date > '2000-01-01' order by Vote_average desc limit 1\")\n",
        "most_awarded = cur.fetchall()\n",
        "print(f\"The most awarded movie since the Jan 1st,2000 is : {most_awarded[0][0]}\")"
      ],
      "metadata": {
        "id": "UYQM11MR1oNj"
      },
      "execution_count": null,
      "outputs": []
    },
    {
      "cell_type": "markdown",
      "source": [
        "**Which movie(s) were directed by Brenda Chapman**"
      ],
      "metadata": {
        "id": "XYPRQIY2cZKs"
      }
    },
    {
      "cell_type": "code",
      "source": [
        "cur.execute(\"select Original_title from movies join directors on directors.id = movies.director_id where directors.name = 'Brenda Chapman' \")\n",
        "directed_by = cur.fetchall()\n",
        "print(f\"The movie(s) were directed by Brenda Chapman is : {directed_by[0][0]}\")"
      ],
      "metadata": {
        "id": "VuvNlSRZcYWH"
      },
      "execution_count": null,
      "outputs": []
    },
    {
      "cell_type": "markdown",
      "source": [
        "**Name the director who has made the most movies**"
      ],
      "metadata": {
        "id": "q9naeVO5hTKf"
      }
    },
    {
      "cell_type": "code",
      "source": [
        "cur.execute(\"select name from directors join movies on directors.id = movies.director_id  group by director_id order by count(name) desc limit 1\")\n",
        "director_movie = cur.fetchall()\n",
        "print(f\"The director who made the most movies is : {director_movie[0][0]}\")"
      ],
      "metadata": {
        "id": "ekilErFihUPh"
      },
      "execution_count": null,
      "outputs": []
    },
    {
      "cell_type": "markdown",
      "source": [
        "Name of the director who is most bankable"
      ],
      "metadata": {
        "id": "uJwWiMYJkP9J"
      }
    },
    {
      "cell_type": "code",
      "source": [
        "cur.execute(\"select name from directors join movies on directors.id = movies.director_id group by director_id order by sum(budget) desc limit 1\")\n",
        "most_bankable_director = cur.fetchall()\n",
        "print(f\"The director who is most bankable is : {most_bankable_director[0][0]}\")"
      ],
      "metadata": {
        "id": "kMq58Q1KkQ8k"
      },
      "execution_count": null,
      "outputs": []
    },
    {
      "cell_type": "markdown",
      "source": [
        "# Budget Analysis"
      ],
      "metadata": {
        "id": "xuDNzUvzkVZC"
      }
    },
    {
      "cell_type": "markdown",
      "source": [
        "**1. Tell the Top 10 highest budget making movie**"
      ],
      "metadata": {
        "id": "HSNVZ2hvnvNq"
      }
    },
    {
      "cell_type": "code",
      "source": [
        "most_top_10 = pd.DataFrame(cur.execute(\"select * from movies order by budget desc limit 10\"), columns = ['ID', 'Original_title', 'Budget', 'Popularity', 'Release_date', 'Revenue', 'Title', 'Vote_average', 'Vote_count', 'Overview', 'Tagline', 'UID', 'Director_ID'])\n",
        "most_top_10"
      ],
      "metadata": {
        "id": "2aQ-WOdekWEP"
      },
      "execution_count": null,
      "outputs": []
    },
    {
      "cell_type": "markdown",
      "source": [
        "# Revenue Analysis"
      ],
      "metadata": {
        "id": "Mhp16Fiaq2ee"
      }
    },
    {
      "cell_type": "markdown",
      "source": [
        "**1. Find Top 10 revenue making movies**"
      ],
      "metadata": {
        "id": "J63y3fYYrKn2"
      }
    },
    {
      "cell_type": "code",
      "source": [
        "Top_10_revenue = pd.DataFrame(cur.execute(\"select * from movies order by revenue desc limit 10\"), columns = ['ID', 'Original_title', 'Budget', 'Popularity', 'Release_date', 'Revenue', 'Title', 'Vote_average', 'Vote_count', 'Overview', 'Tagline', 'UID', 'Director_ID'])\n",
        "Top_10_revenue"
      ],
      "metadata": {
        "id": "q4u0sKcyqqh6"
      },
      "execution_count": null,
      "outputs": []
    },
    {
      "cell_type": "markdown",
      "source": [
        "# Voting Analysis"
      ],
      "metadata": {
        "id": "6SEmMArYrxdI"
      }
    },
    {
      "cell_type": "markdown",
      "source": [
        "1. Find the most popular movies with highest vote_average"
      ],
      "metadata": {
        "id": "6oddEQEOr2FC"
      }
    },
    {
      "cell_type": "code",
      "source": [
        "highest_vote_avg = pd.DataFrame(cur.execute(\"select * from movies order by vote_average desc limit 10\"), columns = ['ID', 'Original_title', 'Budget', 'Popularity', 'Release_date', 'Revenue', 'Title', 'Vote_average', 'Vote_count', 'Overview', 'Tagline', 'UID', 'Director_ID'])\n",
        "highest_vote_avg"
      ],
      "metadata": {
        "id": "h9ogfTHFsT-A"
      },
      "execution_count": null,
      "outputs": []
    },
    {
      "cell_type": "markdown",
      "source": [
        "# Director Analysis"
      ],
      "metadata": {
        "id": "lBLuzl3NtmTk"
      }
    },
    {
      "cell_type": "markdown",
      "source": [
        "1. Name all the director with the number of movies and revenue where revenue should be taken into account for doing the analysis. The director whos has the highest revenue should comes at top ans so forth."
      ],
      "metadata": {
        "id": "VLi6ZTwmuJRK"
      }
    },
    {
      "cell_type": "code",
      "source": [
        "cur.execute(\"select name, count(*), sum(revenue) from movies join directors on directors.id = movies.director_id group by director_id order by sum(revenue) desc\")\n",
        "director_revenue = cur.fetchall()\n",
        "director_most_revenue = pd.DataFrame(director_revenue,columns=['Director_Name','No. of movies', 'Total_Revenue'])\n",
        "director_most_revenue.head(10)"
      ],
      "metadata": {
        "id": "OkpLoURFuU3k"
      },
      "execution_count": null,
      "outputs": []
    },
    {
      "cell_type": "markdown",
      "source": [
        "2. Name all the director with the number of movies and revenue where no of movies should be taken into account for doing the analysis. The director whos has the highest no of movies should comes at top ans so forth."
      ],
      "metadata": {
        "id": "hJ8UjXtrylrH"
      }
    },
    {
      "cell_type": "code",
      "source": [
        "cur.execute(\"select name, count(*), sum(revenue) from movies join directors on directors.id = movies.director_id group by director_id order by count(*) desc\")\n",
        "director_movies = cur.fetchall()\n",
        "director_no_of_movies = pd.DataFrame(director_movies,columns=['Director_Name','No. of movies', 'Total_Revenue'])\n",
        "director_no_of_movies.head(10)"
      ],
      "metadata": {
        "id": "CwOcfzjxxTYc"
      },
      "execution_count": null,
      "outputs": []
    },
    {
      "cell_type": "markdown",
      "source": [
        "**3. Give the title of the movies, release_date, budget, revenue, popularity and vote_average made by Steven Spielberg**"
      ],
      "metadata": {
        "id": "amiAgF9nzr2v"
      }
    },
    {
      "cell_type": "code",
      "source": [
        "cur.execute(\"select title, release_date,budget,revenue,popularity,vote_average from movies join directors on directors.id = movies.director_id where directors.name is 'Steven Spielberg'\")\n",
        "movies_list = cur.fetchall()\n",
        "movies_list_by_Steven_Spielberg = pd.DataFrame(movies_list, columns =['Title', 'Release_date','Budget','Revenue','Popularity','Vote_average'])\n",
        "movies_list_by_Steven_Spielberg"
      ],
      "metadata": {
        "id": "rYQq4EUh0S8Q"
      },
      "execution_count": null,
      "outputs": []
    },
    {
      "cell_type": "code",
      "source": [
        "sns.set(rc = {'figure.figsize': (8, 8)})\n",
        "sns.heatmap(movies[['Budget', 'Popularity', 'Revenue', 'Vote_average', 'Director_ID']].corr(),\n",
        "            annot = True, fmt = '.2f', linewidth = 1);"
      ],
      "metadata": {
        "id": "Y2ZLgV5YljWA"
      },
      "execution_count": null,
      "outputs": []
    }
  ]
}